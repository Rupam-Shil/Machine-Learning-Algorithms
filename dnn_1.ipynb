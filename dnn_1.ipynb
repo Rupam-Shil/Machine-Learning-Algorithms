{
  "nbformat": 4,
  "nbformat_minor": 0,
  "metadata": {
    "colab": {
      "name": "dnn_1.ipynb",
      "provenance": [],
      "collapsed_sections": [],
      "include_colab_link": true
    },
    "kernelspec": {
      "name": "python3",
      "display_name": "Python 3"
    }
  },
  "cells": [
    {
      "cell_type": "markdown",
      "metadata": {
        "id": "view-in-github",
        "colab_type": "text"
      },
      "source": [
        "<a href=\"https://colab.research.google.com/github/Rupam-Shil/Machine-Learning-Algorithms/blob/main/dnn_1.ipynb\" target=\"_parent\"><img src=\"https://colab.research.google.com/assets/colab-badge.svg\" alt=\"Open In Colab\"/></a>"
      ]
    },
    {
      "cell_type": "markdown",
      "metadata": {
        "id": "lP6JLo1tGNBg"
      },
      "source": [
        "# Artificial Neural Network"
      ]
    },
    {
      "cell_type": "markdown",
      "metadata": {
        "id": "gWZyYmS_UE_L"
      },
      "source": [
        "### Importing the libraries"
      ]
    },
    {
      "cell_type": "code",
      "metadata": {
        "id": "MxkJoQBkUIHC"
      },
      "source": [
        "import numpy as np\n",
        "import pandas as pd\n",
        "import tensorflow as tf"
      ],
      "execution_count": 21,
      "outputs": []
    },
    {
      "cell_type": "code",
      "metadata": {
        "id": "ZaTwK7ojXr2F",
        "colab": {
          "base_uri": "https://localhost:8080/",
          "height": 35
        },
        "outputId": "1cad603e-4ee9-4fdf-a4d2-1a2210a01323"
      },
      "source": [
        "tf.__version__"
      ],
      "execution_count": 22,
      "outputs": [
        {
          "output_type": "execute_result",
          "data": {
            "application/vnd.google.colaboratory.intrinsic+json": {
              "type": "string"
            },
            "text/plain": [
              "'2.6.0'"
            ]
          },
          "metadata": {},
          "execution_count": 22
        }
      ]
    },
    {
      "cell_type": "markdown",
      "metadata": {
        "id": "1E0Q3aoKUCRX"
      },
      "source": [
        "## Part 1 - Data Preprocessing"
      ]
    },
    {
      "cell_type": "markdown",
      "metadata": {
        "id": "cKWAkFVGUU0Z"
      },
      "source": [
        "### Importing the dataset"
      ]
    },
    {
      "cell_type": "code",
      "metadata": {
        "id": "MXUkhkMfU4wq"
      },
      "source": [
        "dataset = pd.read_csv('Churn_Modelling.csv')\n",
        "X = dataset.iloc[:, 3:-1].values\n",
        "y = dataset.iloc[:, -1].values"
      ],
      "execution_count": 23,
      "outputs": []
    },
    {
      "cell_type": "code",
      "metadata": {
        "id": "VYP9cQTWbzuI",
        "colab": {
          "base_uri": "https://localhost:8080/"
        },
        "outputId": "10a43910-b0f1-4550-9ccc-18729310e0f8"
      },
      "source": [
        "print(X)"
      ],
      "execution_count": 24,
      "outputs": [
        {
          "output_type": "stream",
          "name": "stdout",
          "text": [
            "[[619 'France' 'Female' ... 1 1 101348.88]\n",
            " [608 'Spain' 'Female' ... 0 1 112542.58]\n",
            " [502 'France' 'Female' ... 1 0 113931.57]\n",
            " ...\n",
            " [709 'France' 'Female' ... 0 1 42085.58]\n",
            " [772 'Germany' 'Male' ... 1 0 92888.52]\n",
            " [792 'France' 'Female' ... 1 0 38190.78]]\n"
          ]
        }
      ]
    },
    {
      "cell_type": "code",
      "metadata": {
        "id": "38vKGE6Nb2RR",
        "colab": {
          "base_uri": "https://localhost:8080/"
        },
        "outputId": "509974d7-9eea-4595-c415-3b519d5a9a57"
      },
      "source": [
        "print(y)"
      ],
      "execution_count": 25,
      "outputs": [
        {
          "output_type": "stream",
          "name": "stdout",
          "text": [
            "[1 0 1 ... 1 1 0]\n"
          ]
        }
      ]
    },
    {
      "cell_type": "markdown",
      "metadata": {
        "id": "N6bQ0UgSU-NJ"
      },
      "source": [
        "### Encoding categorical data"
      ]
    },
    {
      "cell_type": "markdown",
      "metadata": {
        "id": "le5MJreAbW52"
      },
      "source": [
        "Label Encoding the \"Gender\" column"
      ]
    },
    {
      "cell_type": "code",
      "metadata": {
        "id": "PxVKWXxLbczC"
      },
      "source": [
        "from sklearn.preprocessing import LabelEncoder\n",
        "le = LabelEncoder()\n",
        "X[:, 2] = le.fit_transform(X[:, 2])"
      ],
      "execution_count": 26,
      "outputs": []
    },
    {
      "cell_type": "code",
      "metadata": {
        "id": "-M1KboxFb6OO",
        "colab": {
          "base_uri": "https://localhost:8080/"
        },
        "outputId": "b453884c-7d72-46ad-f4c3-8ed3977f459f"
      },
      "source": [
        "print(X)"
      ],
      "execution_count": 27,
      "outputs": [
        {
          "output_type": "stream",
          "name": "stdout",
          "text": [
            "[[619 'France' 0 ... 1 1 101348.88]\n",
            " [608 'Spain' 0 ... 0 1 112542.58]\n",
            " [502 'France' 0 ... 1 0 113931.57]\n",
            " ...\n",
            " [709 'France' 0 ... 0 1 42085.58]\n",
            " [772 'Germany' 1 ... 1 0 92888.52]\n",
            " [792 'France' 0 ... 1 0 38190.78]]\n"
          ]
        }
      ]
    },
    {
      "cell_type": "markdown",
      "metadata": {
        "id": "CUxGZezpbMcb"
      },
      "source": [
        "One Hot Encoding the \"Geography\" column"
      ]
    },
    {
      "cell_type": "code",
      "metadata": {
        "id": "AMXC8-KMVirw"
      },
      "source": [
        "from sklearn.compose import ColumnTransformer\n",
        "from sklearn.preprocessing import OneHotEncoder\n",
        "ct = ColumnTransformer(transformers=[('encoder', OneHotEncoder(), [1])], remainder='passthrough')\n",
        "X = np.array(ct.fit_transform(X))"
      ],
      "execution_count": 28,
      "outputs": []
    },
    {
      "cell_type": "code",
      "metadata": {
        "id": "ZcxwEon-b8nV",
        "colab": {
          "base_uri": "https://localhost:8080/"
        },
        "outputId": "ff15cd19-b22e-44f5-8dbf-5896465377be"
      },
      "source": [
        "print(X)"
      ],
      "execution_count": 29,
      "outputs": [
        {
          "output_type": "stream",
          "name": "stdout",
          "text": [
            "[[1.0 0.0 0.0 ... 1 1 101348.88]\n",
            " [0.0 0.0 1.0 ... 0 1 112542.58]\n",
            " [1.0 0.0 0.0 ... 1 0 113931.57]\n",
            " ...\n",
            " [1.0 0.0 0.0 ... 0 1 42085.58]\n",
            " [0.0 1.0 0.0 ... 1 0 92888.52]\n",
            " [1.0 0.0 0.0 ... 1 0 38190.78]]\n"
          ]
        }
      ]
    },
    {
      "cell_type": "markdown",
      "metadata": {
        "id": "vHol938cW8zd"
      },
      "source": [
        "### Splitting the dataset into the Training set and Test set"
      ]
    },
    {
      "cell_type": "code",
      "metadata": {
        "id": "Z-TDt0Y_XEfc"
      },
      "source": [
        "from sklearn.model_selection import train_test_split\n",
        "X_train, X_test, y_train, y_test = train_test_split(X, y, test_size = 0.2, random_state = 0)"
      ],
      "execution_count": 30,
      "outputs": []
    },
    {
      "cell_type": "markdown",
      "metadata": {
        "id": "RE_FcHyfV3TQ"
      },
      "source": [
        "### Feature Scaling"
      ]
    },
    {
      "cell_type": "code",
      "metadata": {
        "id": "ViCrE00rV8Sk"
      },
      "source": [
        "from sklearn.preprocessing import StandardScaler\n",
        "sc = StandardScaler()\n",
        "X_train = sc.fit_transform(X_train)\n",
        "X_test = sc.transform(X_test)"
      ],
      "execution_count": 31,
      "outputs": []
    },
    {
      "cell_type": "markdown",
      "metadata": {
        "id": "-zfEzkRVXIwF"
      },
      "source": [
        "## Part 2 - Building the ANN"
      ]
    },
    {
      "cell_type": "markdown",
      "metadata": {
        "id": "KvdeScabXtlB"
      },
      "source": [
        "### Initializing the ANN"
      ]
    },
    {
      "cell_type": "code",
      "metadata": {
        "id": "3dtrScHxXQox"
      },
      "source": [
        "ann = tf.keras.models.Sequential()"
      ],
      "execution_count": 32,
      "outputs": []
    },
    {
      "cell_type": "markdown",
      "metadata": {
        "id": "rP6urV6SX7kS"
      },
      "source": [
        "### Adding the input layer and the first hidden layer"
      ]
    },
    {
      "cell_type": "code",
      "metadata": {
        "id": "bppGycBXYCQr"
      },
      "source": [
        "ann.add(tf.keras.layers.Dense(units=6, activation='relu'))"
      ],
      "execution_count": 33,
      "outputs": []
    },
    {
      "cell_type": "markdown",
      "metadata": {
        "id": "BELWAc_8YJze"
      },
      "source": [
        "### Adding the second hidden layer"
      ]
    },
    {
      "cell_type": "code",
      "metadata": {
        "id": "JneR0u0sYRTd"
      },
      "source": [
        "ann.add(tf.keras.layers.Dense(units=6, activation='relu'))"
      ],
      "execution_count": 34,
      "outputs": []
    },
    {
      "cell_type": "markdown",
      "metadata": {
        "id": "OyNEe6RXYcU4"
      },
      "source": [
        "### Adding the output layer"
      ]
    },
    {
      "cell_type": "code",
      "metadata": {
        "id": "Cn3x41RBYfvY"
      },
      "source": [
        "ann.add(tf.keras.layers.Dense(units=1, activation='sigmoid'))"
      ],
      "execution_count": 35,
      "outputs": []
    },
    {
      "cell_type": "markdown",
      "metadata": {
        "id": "JT4u2S1_Y4WG"
      },
      "source": [
        "## Part 3 - Training the ANN"
      ]
    },
    {
      "cell_type": "markdown",
      "metadata": {
        "id": "8GWlJChhY_ZI"
      },
      "source": [
        "### Compiling the ANN"
      ]
    },
    {
      "cell_type": "code",
      "metadata": {
        "id": "fG3RrwDXZEaS"
      },
      "source": [
        "ann.compile(optimizer = 'adam', loss = 'binary_crossentropy', metrics = ['accuracy'])"
      ],
      "execution_count": 36,
      "outputs": []
    },
    {
      "cell_type": "markdown",
      "metadata": {
        "id": "0QR_G5u7ZLSM"
      },
      "source": [
        "### Training the ANN on the Training set"
      ]
    },
    {
      "cell_type": "code",
      "metadata": {
        "id": "nHZ-LKv_ZRb3",
        "colab": {
          "base_uri": "https://localhost:8080/"
        },
        "outputId": "b4bb4c8a-f025-468d-d713-4c9eb86be778"
      },
      "source": [
        "ann.fit(X_train, y_train, batch_size = 32, epochs = 100)"
      ],
      "execution_count": 37,
      "outputs": [
        {
          "output_type": "stream",
          "name": "stdout",
          "text": [
            "Epoch 1/100\n",
            "250/250 [==============================] - 1s 842us/step - loss: 0.5018 - accuracy: 0.7840\n",
            "Epoch 2/100\n",
            "250/250 [==============================] - 0s 868us/step - loss: 0.4533 - accuracy: 0.7965\n",
            "Epoch 3/100\n",
            "250/250 [==============================] - 0s 836us/step - loss: 0.4405 - accuracy: 0.8046\n",
            "Epoch 4/100\n",
            "250/250 [==============================] - 0s 920us/step - loss: 0.4321 - accuracy: 0.8110\n",
            "Epoch 5/100\n",
            "250/250 [==============================] - 0s 881us/step - loss: 0.4251 - accuracy: 0.8145\n",
            "Epoch 6/100\n",
            "250/250 [==============================] - 0s 840us/step - loss: 0.4176 - accuracy: 0.8240\n",
            "Epoch 7/100\n",
            "250/250 [==============================] - 0s 831us/step - loss: 0.4101 - accuracy: 0.8276\n",
            "Epoch 8/100\n",
            "250/250 [==============================] - 0s 847us/step - loss: 0.4033 - accuracy: 0.8295\n",
            "Epoch 9/100\n",
            "250/250 [==============================] - 0s 856us/step - loss: 0.3975 - accuracy: 0.8334\n",
            "Epoch 10/100\n",
            "250/250 [==============================] - 0s 863us/step - loss: 0.3936 - accuracy: 0.8332\n",
            "Epoch 11/100\n",
            "250/250 [==============================] - 0s 886us/step - loss: 0.3901 - accuracy: 0.8346\n",
            "Epoch 12/100\n",
            "250/250 [==============================] - 0s 882us/step - loss: 0.3873 - accuracy: 0.8332\n",
            "Epoch 13/100\n",
            "250/250 [==============================] - 0s 971us/step - loss: 0.3846 - accuracy: 0.8344\n",
            "Epoch 14/100\n",
            "250/250 [==============================] - 0s 887us/step - loss: 0.3823 - accuracy: 0.8353\n",
            "Epoch 15/100\n",
            "250/250 [==============================] - 0s 850us/step - loss: 0.3794 - accuracy: 0.8340\n",
            "Epoch 16/100\n",
            "250/250 [==============================] - 0s 859us/step - loss: 0.3770 - accuracy: 0.8353\n",
            "Epoch 17/100\n",
            "250/250 [==============================] - 0s 852us/step - loss: 0.3747 - accuracy: 0.8363\n",
            "Epoch 18/100\n",
            "250/250 [==============================] - 0s 856us/step - loss: 0.3723 - accuracy: 0.8436\n",
            "Epoch 19/100\n",
            "250/250 [==============================] - 0s 866us/step - loss: 0.3697 - accuracy: 0.8440\n",
            "Epoch 20/100\n",
            "250/250 [==============================] - 0s 926us/step - loss: 0.3678 - accuracy: 0.8449\n",
            "Epoch 21/100\n",
            "250/250 [==============================] - 0s 862us/step - loss: 0.3654 - accuracy: 0.8457\n",
            "Epoch 22/100\n",
            "250/250 [==============================] - 0s 848us/step - loss: 0.3635 - accuracy: 0.8478\n",
            "Epoch 23/100\n",
            "250/250 [==============================] - 0s 858us/step - loss: 0.3615 - accuracy: 0.8499\n",
            "Epoch 24/100\n",
            "250/250 [==============================] - 0s 865us/step - loss: 0.3596 - accuracy: 0.8508\n",
            "Epoch 25/100\n",
            "250/250 [==============================] - 0s 861us/step - loss: 0.3579 - accuracy: 0.8516\n",
            "Epoch 26/100\n",
            "250/250 [==============================] - 0s 807us/step - loss: 0.3562 - accuracy: 0.8525\n",
            "Epoch 27/100\n",
            "250/250 [==============================] - 0s 917us/step - loss: 0.3544 - accuracy: 0.8551\n",
            "Epoch 28/100\n",
            "250/250 [==============================] - 0s 917us/step - loss: 0.3530 - accuracy: 0.8559\n",
            "Epoch 29/100\n",
            "250/250 [==============================] - 0s 865us/step - loss: 0.3522 - accuracy: 0.8560\n",
            "Epoch 30/100\n",
            "250/250 [==============================] - 0s 834us/step - loss: 0.3507 - accuracy: 0.8568\n",
            "Epoch 31/100\n",
            "250/250 [==============================] - 0s 806us/step - loss: 0.3497 - accuracy: 0.8568\n",
            "Epoch 32/100\n",
            "250/250 [==============================] - 0s 833us/step - loss: 0.3485 - accuracy: 0.8568\n",
            "Epoch 33/100\n",
            "250/250 [==============================] - 0s 911us/step - loss: 0.3479 - accuracy: 0.8589\n",
            "Epoch 34/100\n",
            "250/250 [==============================] - 0s 840us/step - loss: 0.3472 - accuracy: 0.8606\n",
            "Epoch 35/100\n",
            "250/250 [==============================] - 0s 844us/step - loss: 0.3459 - accuracy: 0.8597\n",
            "Epoch 36/100\n",
            "250/250 [==============================] - 0s 843us/step - loss: 0.3451 - accuracy: 0.8602\n",
            "Epoch 37/100\n",
            "250/250 [==============================] - 0s 912us/step - loss: 0.3439 - accuracy: 0.8599\n",
            "Epoch 38/100\n",
            "250/250 [==============================] - 0s 894us/step - loss: 0.3428 - accuracy: 0.8608\n",
            "Epoch 39/100\n",
            "250/250 [==============================] - 0s 868us/step - loss: 0.3426 - accuracy: 0.8599\n",
            "Epoch 40/100\n",
            "250/250 [==============================] - 0s 840us/step - loss: 0.3412 - accuracy: 0.8611\n",
            "Epoch 41/100\n",
            "250/250 [==============================] - 0s 902us/step - loss: 0.3410 - accuracy: 0.8618\n",
            "Epoch 42/100\n",
            "250/250 [==============================] - 0s 962us/step - loss: 0.3399 - accuracy: 0.8624\n",
            "Epoch 43/100\n",
            "250/250 [==============================] - 0s 861us/step - loss: 0.3389 - accuracy: 0.8627\n",
            "Epoch 44/100\n",
            "250/250 [==============================] - 0s 867us/step - loss: 0.3380 - accuracy: 0.8640\n",
            "Epoch 45/100\n",
            "250/250 [==============================] - 0s 931us/step - loss: 0.3381 - accuracy: 0.8619\n",
            "Epoch 46/100\n",
            "250/250 [==============================] - 0s 875us/step - loss: 0.3374 - accuracy: 0.8626\n",
            "Epoch 47/100\n",
            "250/250 [==============================] - 0s 936us/step - loss: 0.3365 - accuracy: 0.8636\n",
            "Epoch 48/100\n",
            "250/250 [==============================] - 0s 802us/step - loss: 0.3369 - accuracy: 0.8610\n",
            "Epoch 49/100\n",
            "250/250 [==============================] - 0s 876us/step - loss: 0.3356 - accuracy: 0.8619\n",
            "Epoch 50/100\n",
            "250/250 [==============================] - 0s 891us/step - loss: 0.3357 - accuracy: 0.8630\n",
            "Epoch 51/100\n",
            "250/250 [==============================] - 0s 907us/step - loss: 0.3350 - accuracy: 0.8622\n",
            "Epoch 52/100\n",
            "250/250 [==============================] - 0s 919us/step - loss: 0.3352 - accuracy: 0.8615\n",
            "Epoch 53/100\n",
            "250/250 [==============================] - 0s 844us/step - loss: 0.3345 - accuracy: 0.8640\n",
            "Epoch 54/100\n",
            "250/250 [==============================] - 0s 892us/step - loss: 0.3344 - accuracy: 0.8621\n",
            "Epoch 55/100\n",
            "250/250 [==============================] - 0s 908us/step - loss: 0.3344 - accuracy: 0.8619\n",
            "Epoch 56/100\n",
            "250/250 [==============================] - 0s 860us/step - loss: 0.3346 - accuracy: 0.8637\n",
            "Epoch 57/100\n",
            "250/250 [==============================] - 0s 813us/step - loss: 0.3335 - accuracy: 0.8629\n",
            "Epoch 58/100\n",
            "250/250 [==============================] - 0s 896us/step - loss: 0.3334 - accuracy: 0.8629\n",
            "Epoch 59/100\n",
            "250/250 [==============================] - 0s 848us/step - loss: 0.3327 - accuracy: 0.8626\n",
            "Epoch 60/100\n",
            "250/250 [==============================] - 0s 929us/step - loss: 0.3333 - accuracy: 0.8605\n",
            "Epoch 61/100\n",
            "250/250 [==============================] - 0s 856us/step - loss: 0.3328 - accuracy: 0.8626\n",
            "Epoch 62/100\n",
            "250/250 [==============================] - 0s 884us/step - loss: 0.3336 - accuracy: 0.8626\n",
            "Epoch 63/100\n",
            "250/250 [==============================] - 0s 878us/step - loss: 0.3328 - accuracy: 0.8644\n",
            "Epoch 64/100\n",
            "250/250 [==============================] - 0s 919us/step - loss: 0.3326 - accuracy: 0.8644\n",
            "Epoch 65/100\n",
            "250/250 [==============================] - 0s 873us/step - loss: 0.3326 - accuracy: 0.8616\n",
            "Epoch 66/100\n",
            "250/250 [==============================] - 0s 856us/step - loss: 0.3314 - accuracy: 0.8636\n",
            "Epoch 67/100\n",
            "250/250 [==============================] - 0s 911us/step - loss: 0.3325 - accuracy: 0.8625\n",
            "Epoch 68/100\n",
            "250/250 [==============================] - 0s 867us/step - loss: 0.3321 - accuracy: 0.8639\n",
            "Epoch 69/100\n",
            "250/250 [==============================] - 0s 903us/step - loss: 0.3319 - accuracy: 0.8615\n",
            "Epoch 70/100\n",
            "250/250 [==============================] - 0s 876us/step - loss: 0.3311 - accuracy: 0.8630\n",
            "Epoch 71/100\n",
            "250/250 [==============================] - 0s 843us/step - loss: 0.3319 - accuracy: 0.8622\n",
            "Epoch 72/100\n",
            "250/250 [==============================] - 0s 851us/step - loss: 0.3318 - accuracy: 0.8646\n",
            "Epoch 73/100\n",
            "250/250 [==============================] - 0s 880us/step - loss: 0.3317 - accuracy: 0.8644\n",
            "Epoch 74/100\n",
            "250/250 [==============================] - 0s 871us/step - loss: 0.3313 - accuracy: 0.8621\n",
            "Epoch 75/100\n",
            "250/250 [==============================] - 0s 913us/step - loss: 0.3315 - accuracy: 0.8631\n",
            "Epoch 76/100\n",
            "250/250 [==============================] - 0s 920us/step - loss: 0.3316 - accuracy: 0.8626\n",
            "Epoch 77/100\n",
            "250/250 [==============================] - 0s 899us/step - loss: 0.3305 - accuracy: 0.8627\n",
            "Epoch 78/100\n",
            "250/250 [==============================] - 0s 905us/step - loss: 0.3313 - accuracy: 0.8640\n",
            "Epoch 79/100\n",
            "250/250 [==============================] - 0s 857us/step - loss: 0.3305 - accuracy: 0.8635\n",
            "Epoch 80/100\n",
            "250/250 [==============================] - 0s 865us/step - loss: 0.3304 - accuracy: 0.8640\n",
            "Epoch 81/100\n",
            "250/250 [==============================] - 0s 851us/step - loss: 0.3313 - accuracy: 0.8624\n",
            "Epoch 82/100\n",
            "250/250 [==============================] - 0s 864us/step - loss: 0.3303 - accuracy: 0.8624\n",
            "Epoch 83/100\n",
            "250/250 [==============================] - 0s 843us/step - loss: 0.3306 - accuracy: 0.8635\n",
            "Epoch 84/100\n",
            "250/250 [==============================] - 0s 878us/step - loss: 0.3302 - accuracy: 0.8655\n",
            "Epoch 85/100\n",
            "250/250 [==============================] - 0s 875us/step - loss: 0.3309 - accuracy: 0.8654\n",
            "Epoch 86/100\n",
            "250/250 [==============================] - 0s 880us/step - loss: 0.3304 - accuracy: 0.8631\n",
            "Epoch 87/100\n",
            "250/250 [==============================] - 0s 939us/step - loss: 0.3299 - accuracy: 0.8645\n",
            "Epoch 88/100\n",
            "250/250 [==============================] - 0s 856us/step - loss: 0.3305 - accuracy: 0.8640\n",
            "Epoch 89/100\n",
            "250/250 [==============================] - 0s 856us/step - loss: 0.3300 - accuracy: 0.8640\n",
            "Epoch 90/100\n",
            "250/250 [==============================] - 0s 897us/step - loss: 0.3303 - accuracy: 0.8627\n",
            "Epoch 91/100\n",
            "250/250 [==============================] - 0s 930us/step - loss: 0.3298 - accuracy: 0.8643\n",
            "Epoch 92/100\n",
            "250/250 [==============================] - 0s 889us/step - loss: 0.3302 - accuracy: 0.8645\n",
            "Epoch 93/100\n",
            "250/250 [==============================] - 0s 901us/step - loss: 0.3297 - accuracy: 0.8634\n",
            "Epoch 94/100\n",
            "250/250 [==============================] - 0s 898us/step - loss: 0.3296 - accuracy: 0.8640\n",
            "Epoch 95/100\n",
            "250/250 [==============================] - 0s 851us/step - loss: 0.3298 - accuracy: 0.8634\n",
            "Epoch 96/100\n",
            "250/250 [==============================] - 0s 931us/step - loss: 0.3292 - accuracy: 0.8649\n",
            "Epoch 97/100\n",
            "250/250 [==============================] - 0s 865us/step - loss: 0.3293 - accuracy: 0.8652\n",
            "Epoch 98/100\n",
            "250/250 [==============================] - 0s 869us/step - loss: 0.3295 - accuracy: 0.8641\n",
            "Epoch 99/100\n",
            "250/250 [==============================] - 0s 875us/step - loss: 0.3296 - accuracy: 0.8650\n",
            "Epoch 100/100\n",
            "250/250 [==============================] - 0s 891us/step - loss: 0.3300 - accuracy: 0.8652\n"
          ]
        },
        {
          "output_type": "execute_result",
          "data": {
            "text/plain": [
              "<keras.callbacks.History at 0x7f00acd14b90>"
            ]
          },
          "metadata": {},
          "execution_count": 37
        }
      ]
    },
    {
      "cell_type": "code",
      "metadata": {
        "id": "2d8IoCCkeWGL",
        "colab": {
          "base_uri": "https://localhost:8080/"
        },
        "outputId": "30ef6efa-04f0-47bf-8ea7-a9debbe2151f"
      },
      "source": [
        "print(ann.predict(sc.transform([[1, 0, 0, 600, 1, 40, 3, 60000, 2, 1, 1, 50000]])) > 0.5)"
      ],
      "execution_count": 38,
      "outputs": [
        {
          "output_type": "stream",
          "name": "stdout",
          "text": [
            "[[False]]\n"
          ]
        }
      ]
    },
    {
      "cell_type": "markdown",
      "metadata": {
        "id": "u7yx47jPZt11"
      },
      "source": [
        "### Predicting the Test set results"
      ]
    },
    {
      "cell_type": "code",
      "metadata": {
        "id": "nIyEeQdRZwgs",
        "colab": {
          "base_uri": "https://localhost:8080/"
        },
        "outputId": "2cfeb7a6-411c-4cfe-fbdc-526bfc4e09c0"
      },
      "source": [
        "y_pred = ann.predict(X_test)\n",
        "y_pred = (y_pred > 0.5)\n",
        "print(np.concatenate((y_pred.reshape(len(y_pred),1), y_test.reshape(len(y_test),1)),1))"
      ],
      "execution_count": 39,
      "outputs": [
        {
          "output_type": "stream",
          "name": "stdout",
          "text": [
            "[[0 0]\n",
            " [0 1]\n",
            " [0 0]\n",
            " ...\n",
            " [0 0]\n",
            " [0 0]\n",
            " [0 0]]\n"
          ]
        }
      ]
    },
    {
      "cell_type": "markdown",
      "metadata": {
        "id": "o0oyfLWoaEGw"
      },
      "source": [
        "### Making the Confusion Matrix"
      ]
    },
    {
      "cell_type": "code",
      "metadata": {
        "id": "ci6K_r6LaF6P",
        "colab": {
          "base_uri": "https://localhost:8080/"
        },
        "outputId": "11f4174a-76a7-4211-868f-3263620117e1"
      },
      "source": [
        "from sklearn.metrics import confusion_matrix, accuracy_score\n",
        "cm = confusion_matrix(y_test, y_pred)\n",
        "print(cm)\n",
        "accuracy_score(y_test, y_pred)"
      ],
      "execution_count": 40,
      "outputs": [
        {
          "output_type": "stream",
          "name": "stdout",
          "text": [
            "[[1513   82]\n",
            " [ 193  212]]\n"
          ]
        },
        {
          "output_type": "execute_result",
          "data": {
            "text/plain": [
              "0.8625"
            ]
          },
          "metadata": {},
          "execution_count": 40
        }
      ]
    }
  ]
}